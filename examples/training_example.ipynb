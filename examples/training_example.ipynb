{
 "cells": [
  {
   "cell_type": "markdown",
   "metadata": {},
   "source": [
    "# No training"
   ]
  },
  {
   "cell_type": "code",
   "execution_count": 1,
   "metadata": {},
   "outputs": [
    {
     "name": "stdout",
     "output_type": "stream",
     "text": [
      "\n",
      "***************************************************************************\n",
      "                                LNN Model\n",
      "\n",
      "OPEN   And: AB(x) \n",
      "params  α: 1.0,  β: 1.0,  w: [1. 1.]\n",
      "'3'                                                        FALSE (0.0, 0.0)\n",
      "'1'                                                        FALSE (0.0, 0.0)\n",
      "'0'                                                         TRUE (1.0, 1.0)\n",
      "'2'                                                        FALSE (0.0, 0.0)\n",
      "\n",
      "OPEN   Predicate: P2(x0) \n",
      "params  α: 1.0\n",
      "'3'                                                        FALSE (0.0, 0.0)\n",
      "'1'                                                        FALSE (0.0, 0.0)\n",
      "'0'                                                         TRUE (1.0, 1.0)\n",
      "'2'                                                         TRUE (1.0, 1.0)\n",
      "\n",
      "OPEN   Predicate: P1(x0) \n",
      "params  α: 1.0\n",
      "'3'                                                        FALSE (0.0, 0.0)\n",
      "'1'                                                         TRUE (1.0, 1.0)\n",
      "'0'                                                         TRUE (1.0, 1.0)\n",
      "'2'                                                        FALSE (0.0, 0.0)\n",
      "\n",
      "***************************************************************************\n"
     ]
    }
   ],
   "source": [
    "from lnn import Model, Predicate, Variable\n",
    "from lnn import AXIOM, TRUE, FALSE\n",
    "from lnn import And\n",
    "\n",
    "model = Model()\n",
    "p1, p2 = map(Predicate, ['P1', 'P2'])\n",
    "x = Variable('x')\n",
    "model['AB'] = And(p1(x), p2(x))\n",
    "\n",
    "# add data to the model\n",
    "model.add_facts({\n",
    "    p1.name: {\n",
    "        '0': TRUE,\n",
    "        '1': TRUE,\n",
    "        '2': FALSE,\n",
    "        '3': FALSE\n",
    "    },\n",
    "    p2.name: {\n",
    "        '0': TRUE,\n",
    "        '1': FALSE,\n",
    "        '2': TRUE,\n",
    "        '3': FALSE,\n",
    "    }\n",
    "})\n",
    "\n",
    "# add supervisory targets\n",
    "model.add_labels({\n",
    "    'AB': {\n",
    "        '0': TRUE,\n",
    "        '1': FALSE,\n",
    "        '2': TRUE,\n",
    "        '3': FALSE,\n",
    "    }\n",
    "})\n",
    "\n",
    "# train the model and output results\n",
    "model.infer()\n",
    "model.print(params=True)"
   ]
  },
  {
   "cell_type": "markdown",
   "metadata": {},
   "source": [
    "# Training - supervised loss\n",
    "Try to optimize parameters to fit target theory"
   ]
  },
  {
   "cell_type": "code",
   "execution_count": 3,
   "metadata": {},
   "outputs": [
    {
     "name": "stdout",
     "output_type": "stream",
     "text": [
      "\n",
      "***************************************************************************\n",
      "                                LNN Model\n",
      "\n",
      "OPEN   And: AB(x) \n",
      "params  α: 1.0,  β: 1.00296,  w: [0. 1.]\n",
      "'3'                                                 APPROX_FALSE (0.00442, 0.00442)\n",
      "'1'                                                 APPROX_FALSE (0.00442, 0.00442)\n",
      "'0'                                                         TRUE (1.0, 1.0)\n",
      "'2'                                                         TRUE (1.0, 1.0)\n",
      "\n",
      "OPEN   Predicate: P2(x0) \n",
      "params  α: 1.0\n",
      "'3'                                                        FALSE (0.0, 0.0)\n",
      "'1'                                                        FALSE (0.0, 0.0)\n",
      "'0'                                                         TRUE (1.0, 1.0)\n",
      "'2'                                                         TRUE (1.0, 1.0)\n",
      "\n",
      "OPEN   Predicate: P1(x0) \n",
      "params  α: 1.0\n",
      "'3'                                                        FALSE (0.0, 0.0)\n",
      "'1'                                                         TRUE (1.0, 1.0)\n",
      "'0'                                                         TRUE (1.0, 1.0)\n",
      "'2'                                                        FALSE (0.0, 0.0)\n",
      "\n",
      "***************************************************************************\n"
     ]
    }
   ],
   "source": [
    "from lnn import Model, Predicate, Variable\n",
    "from lnn import AXIOM, TRUE, FALSE\n",
    "from lnn import And\n",
    "\n",
    "model = Model()\n",
    "p1, p2 = map(Predicate, ['P1', 'P2'])\n",
    "x = Variable('x')\n",
    "model['AB'] = And(p1(x), p2(x))\n",
    "\n",
    "# add data to the model\n",
    "model.add_facts({\n",
    "    p1.name: {\n",
    "        '0': TRUE,\n",
    "        '1': TRUE,\n",
    "        '2': FALSE,\n",
    "        '3': FALSE\n",
    "    },\n",
    "    p2.name: {\n",
    "        '0': TRUE,\n",
    "        '1': FALSE,\n",
    "        '2': TRUE,\n",
    "        '3': FALSE,\n",
    "    }\n",
    "})\n",
    "\n",
    "# add supervisory targets\n",
    "model.add_labels({\n",
    "    'AB': {\n",
    "        '0': TRUE,\n",
    "        '1': FALSE,\n",
    "        '2': TRUE,\n",
    "        '3': FALSE,\n",
    "    }\n",
    "})\n",
    "\n",
    "# train the model and output results\n",
    "model.train(losses=['supervised'])\n",
    "model.print(params=True)"
   ]
  },
  {
   "cell_type": "markdown",
   "metadata": {},
   "source": [
    "# Training - contradiction loss\n",
    "Try to optimize parameters to minimise contradiction"
   ]
  },
  {
   "cell_type": "code",
   "execution_count": 4,
   "metadata": {},
   "outputs": [
    {
     "name": "stdout",
     "output_type": "stream",
     "text": [
      "\n",
      "***************************************************************************\n",
      "                                LNN Model\n",
      "\n",
      "OPEN   And: AB(x) \n",
      "params  α: 1.0,  β: 1.0,  w: [1. 1.]\n",
      "'3'                                                        FALSE (0.0, 0.0)\n",
      "'1'                                                        FALSE (0.0, 0.0)\n",
      "'0'                                                         TRUE (1.0, 1.0)\n",
      "'2'                                                        FALSE (0.0, 0.0)\n",
      "\n",
      "OPEN   Predicate: P2(x0) \n",
      "params  α: 1.0\n",
      "'3'                                                        FALSE (0.0, 0.0)\n",
      "'1'                                                        FALSE (0.0, 0.0)\n",
      "'0'                                                         TRUE (1.0, 1.0)\n",
      "'2'                                                         TRUE (1.0, 1.0)\n",
      "\n",
      "OPEN   Predicate: P1(x0) \n",
      "params  α: 1.0\n",
      "'3'                                                        FALSE (0.0, 0.0)\n",
      "'1'                                                         TRUE (1.0, 1.0)\n",
      "'0'                                                         TRUE (1.0, 1.0)\n",
      "'2'                                                        FALSE (0.0, 0.0)\n",
      "\n",
      "***************************************************************************\n"
     ]
    }
   ],
   "source": [
    "from lnn import Model, Predicate, Variable\n",
    "from lnn import AXIOM, TRUE, FALSE\n",
    "from lnn import And\n",
    "\n",
    "model = Model()\n",
    "p1, p2 = map(Predicate, ['P1', 'P2'])\n",
    "x = Variable('x')\n",
    "model['AB'] = And(p1(x), p2(x))\n",
    "\n",
    "# add data to the model\n",
    "model.add_facts({\n",
    "    p1.name: {\n",
    "        '0': TRUE,\n",
    "        '1': TRUE,\n",
    "        '2': FALSE,\n",
    "        '3': FALSE\n",
    "    },\n",
    "    p2.name: {\n",
    "        '0': TRUE,\n",
    "        '1': FALSE,\n",
    "        '2': TRUE,\n",
    "        '3': FALSE,\n",
    "    }\n",
    "})\n",
    "\n",
    "# add supervisory targets\n",
    "model.add_labels({\n",
    "    'AB': {\n",
    "        '0': TRUE,\n",
    "        '1': FALSE,\n",
    "        '2': TRUE,\n",
    "        '3': FALSE,\n",
    "    }\n",
    "})\n",
    "\n",
    "# train the model and output results\n",
    "model.train(losses=['contradiction'])\n",
    "model.print(params=True)"
   ]
  },
  {
   "cell_type": "code",
   "execution_count": null,
   "metadata": {},
   "outputs": [],
   "source": []
  }
 ],
 "metadata": {
  "interpreter": {
   "hash": "b08e4317ac3dadd66ff2b630a3808f8622704b72a62f43c1750e624fca33bbd2"
  },
  "kernelspec": {
   "display_name": "Python 3.9.10 ('lnn')",
   "language": "python",
   "name": "python3"
  },
  "language_info": {
   "codemirror_mode": {
    "name": "ipython",
    "version": 3
   },
   "file_extension": ".py",
   "mimetype": "text/x-python",
   "name": "python",
   "nbconvert_exporter": "python",
   "pygments_lexer": "ipython3",
   "version": "3.9.10"
  },
  "orig_nbformat": 4
 },
 "nbformat": 4,
 "nbformat_minor": 2
}
