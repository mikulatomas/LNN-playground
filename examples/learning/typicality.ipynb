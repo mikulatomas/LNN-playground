{
 "cells": [
  {
   "cell_type": "code",
   "execution_count": 2,
   "metadata": {},
   "outputs": [],
   "source": [
    "from lnn import Predicate, Variable, Exists, Implies, And, ForAll, Model, Fact, World, Bidirectional"
   ]
  },
  {
   "cell_type": "markdown",
   "metadata": {},
   "source": [
    "![](typicality.jpeg)"
   ]
  },
  {
   "cell_type": "code",
   "execution_count": 3,
   "metadata": {},
   "outputs": [],
   "source": [
    "model = Model()"
   ]
  },
  {
   "cell_type": "code",
   "execution_count": 4,
   "metadata": {},
   "outputs": [],
   "source": [
    "has_attribute = Predicate(\"has_attribute\", arity=2)\n",
    "is_typical = Predicate(\"is_typical\")\n",
    "\n",
    "model.add_formulae(has_attribute, is_typical)"
   ]
  },
  {
   "cell_type": "code",
   "execution_count": 5,
   "metadata": {},
   "outputs": [],
   "source": [
    "model.add_facts(\n",
    "    {\n",
    "        \"has_attribute\": {\n",
    "            (\"sparrow\", \"flies\"): Fact.TRUE,\n",
    "            (\"penguin\", \"flies\"): Fact.FALSE,\n",
    "            (\"crow\", \"flies\"): Fact.TRUE,\n",
    "\n",
    "            (\"sparrow\", \"predator\"): Fact.FALSE,\n",
    "            (\"penguin\", \"predator\"): Fact.TRUE,\n",
    "            (\"crow\", \"predator\"): Fact.TRUE,\n",
    "\n",
    "            (\"sparrow\", \"aquatic\"): Fact.FALSE,\n",
    "            (\"penguin\", \"aquatic\"): Fact.TRUE,\n",
    "            (\"crow\", \"aquatic\"): Fact.FALSE,\n",
    "        },\n",
    "    },\n",
    "    \n",
    ")\n",
    "\n",
    "# should they be labels or facts?\n",
    "model.add_labels(\n",
    "    {\n",
    "        \"is_typical\": {\"sparrow\": Fact.TRUE, \"penguin\": Fact.FALSE, \"crow\": Fact.UNKNOWN}\n",
    "    }\n",
    ")\n"
   ]
  },
  {
   "cell_type": "code",
   "execution_count": null,
   "metadata": {},
   "outputs": [],
   "source": []
  }
 ],
 "metadata": {
  "interpreter": {
   "hash": "b08e4317ac3dadd66ff2b630a3808f8622704b72a62f43c1750e624fca33bbd2"
  },
  "kernelspec": {
   "display_name": "Python 3.9.10 ('lnn')",
   "language": "python",
   "name": "python3"
  },
  "language_info": {
   "codemirror_mode": {
    "name": "ipython",
    "version": 3
   },
   "file_extension": ".py",
   "mimetype": "text/x-python",
   "name": "python",
   "nbconvert_exporter": "python",
   "pygments_lexer": "ipython3",
   "version": "3.9.10"
  },
  "orig_nbformat": 4
 },
 "nbformat": 4,
 "nbformat_minor": 2
}
