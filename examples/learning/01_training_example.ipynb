{
 "cells": [
  {
   "cell_type": "markdown",
   "metadata": {},
   "source": [
    "# No training"
   ]
  },
  {
   "cell_type": "code",
   "execution_count": 1,
   "metadata": {},
   "outputs": [
    {
     "name": "stdout",
     "output_type": "stream",
     "text": [
      "\n",
      "***************************************************************************\n",
      "                                LNN Model\n",
      "\n",
      "OPEN   And: AB(x) \n",
      "params  α: 1.0,  β: 1.0,  w: [1. 1.]\n",
      "'0'                                                         TRUE (1.0, 1.0)\n",
      "'1'                                                        FALSE (0.0, 0.0)\n",
      "'3'                                                        FALSE (0.0, 0.0)\n",
      "'2'                                                CONTRADICTION (1.0, 0.0)\n",
      "\n",
      "OPEN   Predicate: P2(x0) \n",
      "params  α: 1.0\n",
      "'0'                                                         TRUE (1.0, 1.0)\n",
      "'1'                                                        FALSE (0.0, 0.0)\n",
      "'3'                                                        FALSE (0.0, 0.0)\n",
      "'2'                                                CONTRADICTION (1.0, 0.0)\n",
      "\n",
      "OPEN   Predicate: P1(x0) \n",
      "params  α: 1.0\n",
      "'0'                                                         TRUE (1.0, 1.0)\n",
      "'1'                                                         TRUE (1.0, 1.0)\n",
      "'3'                                                        FALSE (0.0, 0.0)\n",
      "'2'                                                CONTRADICTION (1.0, 0.0)\n",
      "\n",
      "***************************************************************************\n"
     ]
    }
   ],
   "source": [
    "from lnn import Model, Predicate, Variable\n",
    "from lnn import TRUE, FALSE\n",
    "from lnn import And\n",
    "\n",
    "model = Model()\n",
    "p1, p2 = map(Predicate, ['P1', 'P2'])\n",
    "x = Variable('x')\n",
    "model['AB'] = And(p1(x), p2(x))\n",
    "\n",
    "# add data to the model\n",
    "model.add_facts({\n",
    "    p1.name: {\n",
    "        '0': TRUE,\n",
    "        '1': TRUE,\n",
    "        '2': FALSE,\n",
    "        '3': FALSE\n",
    "    },\n",
    "    p2.name: {\n",
    "        '0': TRUE,\n",
    "        '1': FALSE,\n",
    "        '2': TRUE,\n",
    "        '3': FALSE,\n",
    "    },\n",
    "    'AB': {\n",
    "        '0': TRUE,\n",
    "        '1': FALSE,\n",
    "        '2': TRUE,\n",
    "        '3': FALSE,\n",
    "    }\n",
    "})\n",
    "\n",
    "# infer from the model\n",
    "model.infer()\n",
    "model.print(params=True)"
   ]
  },
  {
   "cell_type": "markdown",
   "metadata": {},
   "source": [
    "# Training - supervised loss\n",
    "Try to optimize parameters to fit target theory"
   ]
  },
  {
   "cell_type": "code",
   "execution_count": 2,
   "metadata": {},
   "outputs": [
    {
     "name": "stdout",
     "output_type": "stream",
     "text": [
      "\n",
      "***************************************************************************\n",
      "                                LNN Model\n",
      "\n",
      "OPEN   And: AB(x) \n",
      "params  α: 1.0,  β: 1.00296,  w: [0. 1.]\n",
      "'0'                                                         TRUE (1.0, 1.0)\n",
      "'1'                                                 APPROX_FALSE (0.00442, 0.00442)\n",
      "'3'                                                 APPROX_FALSE (0.00442, 0.00442)\n",
      "'2'                                                         TRUE (1.0, 1.0)\n",
      "\n",
      "OPEN   Predicate: P2(x0) \n",
      "params  α: 1.0\n",
      "'0'                                                         TRUE (1.0, 1.0)\n",
      "'1'                                                        FALSE (0.0, 0.0)\n",
      "'3'                                                        FALSE (0.0, 0.0)\n",
      "'2'                                                         TRUE (1.0, 1.0)\n",
      "\n",
      "OPEN   Predicate: P1(x0) \n",
      "params  α: 1.0\n",
      "'0'                                                         TRUE (1.0, 1.0)\n",
      "'1'                                                         TRUE (1.0, 1.0)\n",
      "'3'                                                        FALSE (0.0, 0.0)\n",
      "'2'                                                        FALSE (0.0, 0.0)\n",
      "\n",
      "***************************************************************************\n"
     ]
    }
   ],
   "source": [
    "from lnn import Model, Predicate, Variable\n",
    "from lnn import TRUE, FALSE\n",
    "from lnn import And\n",
    "\n",
    "model = Model()\n",
    "p1, p2 = map(Predicate, ['P1', 'P2'])\n",
    "x = Variable('x')\n",
    "model['AB'] = And(p1(x), p2(x))\n",
    "\n",
    "# add data to the model\n",
    "model.add_facts({\n",
    "    p1.name: {\n",
    "        '0': TRUE,\n",
    "        '1': TRUE,\n",
    "        '2': FALSE,\n",
    "        '3': FALSE\n",
    "    },\n",
    "    p2.name: {\n",
    "        '0': TRUE,\n",
    "        '1': FALSE,\n",
    "        '2': TRUE,\n",
    "        '3': FALSE,\n",
    "    }\n",
    "})\n",
    "\n",
    "# add supervisory targets\n",
    "model.add_labels({\n",
    "    'AB': {\n",
    "        '0': TRUE,\n",
    "        '1': FALSE,\n",
    "        '2': TRUE,\n",
    "        '3': FALSE,\n",
    "    }\n",
    "})\n",
    "\n",
    "# train the model and output results\n",
    "model.train(losses=['supervised'])\n",
    "model.print(params=True)"
   ]
  },
  {
   "cell_type": "markdown",
   "metadata": {},
   "source": [
    "# Training - contradiction loss\n",
    "Try to optimize parameters to minimise contradiction"
   ]
  },
  {
   "cell_type": "code",
   "execution_count": 5,
   "metadata": {},
   "outputs": [
    {
     "ename": "TypeError",
     "evalue": "downward() got an unexpected keyword argument 'losses'",
     "output_type": "error",
     "traceback": [
      "\u001b[0;31m---------------------------------------------------------------------------\u001b[0m",
      "\u001b[0;31mTypeError\u001b[0m                                 Traceback (most recent call last)",
      "\u001b[1;32m/Users/tomasmikula/Gits/LNN-playground/examples/training_example.ipynb Cell 6'\u001b[0m in \u001b[0;36m<module>\u001b[0;34m\u001b[0m\n\u001b[1;32m     <a href='vscode-notebook-cell:/Users/tomasmikula/Gits/LNN-playground/examples/training_example.ipynb#ch0000005?line=27'>28</a>\u001b[0m model\u001b[39m.\u001b[39madd_labels({\n\u001b[1;32m     <a href='vscode-notebook-cell:/Users/tomasmikula/Gits/LNN-playground/examples/training_example.ipynb#ch0000005?line=28'>29</a>\u001b[0m     \u001b[39m'\u001b[39m\u001b[39mAB\u001b[39m\u001b[39m'\u001b[39m: {\n\u001b[1;32m     <a href='vscode-notebook-cell:/Users/tomasmikula/Gits/LNN-playground/examples/training_example.ipynb#ch0000005?line=29'>30</a>\u001b[0m         \u001b[39m'\u001b[39m\u001b[39m0\u001b[39m\u001b[39m'\u001b[39m: TRUE,\n\u001b[0;32m   (...)\u001b[0m\n\u001b[1;32m     <a href='vscode-notebook-cell:/Users/tomasmikula/Gits/LNN-playground/examples/training_example.ipynb#ch0000005?line=33'>34</a>\u001b[0m     }\n\u001b[1;32m     <a href='vscode-notebook-cell:/Users/tomasmikula/Gits/LNN-playground/examples/training_example.ipynb#ch0000005?line=34'>35</a>\u001b[0m })\n\u001b[1;32m     <a href='vscode-notebook-cell:/Users/tomasmikula/Gits/LNN-playground/examples/training_example.ipynb#ch0000005?line=36'>37</a>\u001b[0m \u001b[39m# train the model and output results\u001b[39;00m\n\u001b[0;32m---> <a href='vscode-notebook-cell:/Users/tomasmikula/Gits/LNN-playground/examples/training_example.ipynb#ch0000005?line=37'>38</a>\u001b[0m model\u001b[39m.\u001b[39;49mtrain(losses\u001b[39m=\u001b[39;49m[\u001b[39m'\u001b[39;49m\u001b[39mcontradiction\u001b[39;49m\u001b[39m'\u001b[39;49m])\n\u001b[1;32m     <a href='vscode-notebook-cell:/Users/tomasmikula/Gits/LNN-playground/examples/training_example.ipynb#ch0000005?line=38'>39</a>\u001b[0m model\u001b[39m.\u001b[39mprint(params\u001b[39m=\u001b[39m\u001b[39mTrue\u001b[39;00m)\n",
      "File \u001b[0;32m~/Gits/LNN/lnn/model.py:498\u001b[0m, in \u001b[0;36mModel.train\u001b[0;34m(self, **kwds)\u001b[0m\n\u001b[1;32m    <a href='file:///Users/tomasmikula/Gits/LNN/lnn/model.py?line=495'>496</a>\u001b[0m     \u001b[39mself\u001b[39m\u001b[39m.\u001b[39mreset_bounds()\n\u001b[1;32m    <a href='file:///Users/tomasmikula/Gits/LNN/lnn/model.py?line=496'>497</a>\u001b[0m \u001b[39mself\u001b[39m\u001b[39m.\u001b[39mincrement_param_history(kwds\u001b[39m.\u001b[39mget(\u001b[39m\"\u001b[39m\u001b[39mparameter_history\u001b[39m\u001b[39m\"\u001b[39m))\n\u001b[0;32m--> <a href='file:///Users/tomasmikula/Gits/LNN/lnn/model.py?line=497'>498</a>\u001b[0m _, facts_inferred \u001b[39m=\u001b[39m \u001b[39mself\u001b[39;49m\u001b[39m.\u001b[39;49minfer(\u001b[39m*\u001b[39;49m\u001b[39m*\u001b[39;49mkwds)\n\u001b[1;32m    <a href='file:///Users/tomasmikula/Gits/LNN/lnn/model.py?line=498'>499</a>\u001b[0m loss_fn \u001b[39m=\u001b[39m \u001b[39mself\u001b[39m\u001b[39m.\u001b[39mloss_fn(kwds\u001b[39m.\u001b[39mget(\u001b[39m\"\u001b[39m\u001b[39mlosses\u001b[39m\u001b[39m\"\u001b[39m))\n\u001b[1;32m    <a href='file:///Users/tomasmikula/Gits/LNN/lnn/model.py?line=499'>500</a>\u001b[0m loss \u001b[39m=\u001b[39m \u001b[39msum\u001b[39m(loss_fn)\n",
      "File \u001b[0;32m~/Gits/LNN/lnn/model.py:387\u001b[0m, in \u001b[0;36mModel.infer\u001b[0;34m(self, direction, source, max_steps, **kwds)\u001b[0m\n\u001b[1;32m    <a href='file:///Users/tomasmikula/Gits/LNN/lnn/model.py?line=384'>385</a>\u001b[0m bounds_diff \u001b[39m=\u001b[39m \u001b[39m0.0\u001b[39m\n\u001b[1;32m    <a href='file:///Users/tomasmikula/Gits/LNN/lnn/model.py?line=385'>386</a>\u001b[0m \u001b[39mfor\u001b[39;00m d \u001b[39min\u001b[39;00m direction:\n\u001b[0;32m--> <a href='file:///Users/tomasmikula/Gits/LNN/lnn/model.py?line=386'>387</a>\u001b[0m     bounds_diff \u001b[39m=\u001b[39m bounds_diff \u001b[39m+\u001b[39m \u001b[39mself\u001b[39;49m\u001b[39m.\u001b[39;49m_traverse_execute(\n\u001b[1;32m    <a href='file:///Users/tomasmikula/Gits/LNN/lnn/model.py?line=387'>388</a>\u001b[0m         d\u001b[39m.\u001b[39;49mvalue\u001b[39m.\u001b[39;49mlower(), d, source, \u001b[39m*\u001b[39;49m\u001b[39m*\u001b[39;49mkwds\n\u001b[1;32m    <a href='file:///Users/tomasmikula/Gits/LNN/lnn/model.py?line=388'>389</a>\u001b[0m     )\n\u001b[1;32m    <a href='file:///Users/tomasmikula/Gits/LNN/lnn/model.py?line=389'>390</a>\u001b[0m converged \u001b[39m=\u001b[39m (\n\u001b[1;32m    <a href='file:///Users/tomasmikula/Gits/LNN/lnn/model.py?line=390'>391</a>\u001b[0m     \u001b[39mTrue\u001b[39;00m\n\u001b[1;32m    <a href='file:///Users/tomasmikula/Gits/LNN/lnn/model.py?line=391'>392</a>\u001b[0m     \u001b[39mif\u001b[39;00m direction \u001b[39min\u001b[39;00m ([[Direction\u001b[39m.\u001b[39mUPWARD], [Direction\u001b[39m.\u001b[39mDOWNWARD]])\n\u001b[1;32m    <a href='file:///Users/tomasmikula/Gits/LNN/lnn/model.py?line=392'>393</a>\u001b[0m     \u001b[39melse\u001b[39;00m (bounds_diff \u001b[39m<\u001b[39m\u001b[39m=\u001b[39m \u001b[39m1e-7\u001b[39m)\n\u001b[1;32m    <a href='file:///Users/tomasmikula/Gits/LNN/lnn/model.py?line=393'>394</a>\u001b[0m )\n\u001b[1;32m    <a href='file:///Users/tomasmikula/Gits/LNN/lnn/model.py?line=394'>395</a>\u001b[0m facts_inferred \u001b[39m=\u001b[39m facts_inferred \u001b[39m+\u001b[39m bounds_diff\n",
      "File \u001b[0;32m~/Gits/LNN/lnn/model.py:313\u001b[0m, in \u001b[0;36mModel._traverse_execute\u001b[0;34m(self, func, direction, source, **kwds)\u001b[0m\n\u001b[1;32m    <a href='file:///Users/tomasmikula/Gits/LNN/lnn/model.py?line=310'>311</a>\u001b[0m coalesce \u001b[39m=\u001b[39m torch\u001b[39m.\u001b[39mtensor(\u001b[39m0.0\u001b[39m)\n\u001b[1;32m    <a href='file:///Users/tomasmikula/Gits/LNN/lnn/model.py?line=311'>312</a>\u001b[0m \u001b[39mfor\u001b[39;00m node \u001b[39min\u001b[39;00m nodes:\n\u001b[0;32m--> <a href='file:///Users/tomasmikula/Gits/LNN/lnn/model.py?line=312'>313</a>\u001b[0m     val \u001b[39m=\u001b[39m \u001b[39mgetattr\u001b[39;49m(node, func)(\u001b[39m*\u001b[39;49m\u001b[39m*\u001b[39;49mkwds) \u001b[39mif\u001b[39;00m \u001b[39mhasattr\u001b[39m(node, func) \u001b[39melse\u001b[39;00m \u001b[39mNone\u001b[39;00m\n\u001b[1;32m    <a href='file:///Users/tomasmikula/Gits/LNN/lnn/model.py?line=313'>314</a>\u001b[0m     coalesce \u001b[39m=\u001b[39m coalesce \u001b[39m+\u001b[39m val \u001b[39mif\u001b[39;00m val \u001b[39mis\u001b[39;00m \u001b[39mnot\u001b[39;00m \u001b[39mNone\u001b[39;00m \u001b[39melse\u001b[39;00m coalesce \u001b[39m+\u001b[39m \u001b[39m0.0\u001b[39m\n\u001b[1;32m    <a href='file:///Users/tomasmikula/Gits/LNN/lnn/model.py?line=314'>315</a>\u001b[0m \u001b[39mreturn\u001b[39;00m coalesce\n",
      "\u001b[0;31mTypeError\u001b[0m: downward() got an unexpected keyword argument 'losses'"
     ]
    }
   ],
   "source": [
    "from lnn import Model, Predicate, Variable, ForAll, Or\n",
    "from lnn import TRUE, FALSE\n",
    "from lnn import And\n",
    "\n",
    "model = Model()\n",
    "p1, p2 = map(Predicate, ['P1', 'P2'])\n",
    "x = Variable('x')\n",
    "model['AB'] = And(p1(x), p2(x))\n",
    "\n",
    "# add data to the model\n",
    "model.add_facts({\n",
    "    p1.name: {\n",
    "        '0': TRUE,\n",
    "        '1': TRUE,\n",
    "        '2': FALSE,\n",
    "        '3': FALSE\n",
    "    },\n",
    "    p2.name: {\n",
    "        '0': TRUE,\n",
    "        '1': FALSE,\n",
    "        '2': TRUE,\n",
    "        '3': FALSE,\n",
    "    },\n",
    "})\n",
    "\n",
    "# add supervisory targets\n",
    "model.add_labels({\n",
    "    'AB': {\n",
    "        '0': TRUE,\n",
    "        '1': FALSE,\n",
    "        '2': TRUE,\n",
    "        '3': FALSE,\n",
    "    }\n",
    "})\n",
    "\n",
    "# train the model and output results\n",
    "model.train(losses=['contradiction'])\n",
    "model.print(params=True)"
   ]
  },
  {
   "cell_type": "code",
   "execution_count": null,
   "metadata": {},
   "outputs": [],
   "source": []
  }
 ],
 "metadata": {
  "interpreter": {
   "hash": "b08e4317ac3dadd66ff2b630a3808f8622704b72a62f43c1750e624fca33bbd2"
  },
  "kernelspec": {
   "display_name": "Python 3.9.10 ('lnn')",
   "language": "python",
   "name": "python3"
  },
  "language_info": {
   "codemirror_mode": {
    "name": "ipython",
    "version": 3
   },
   "file_extension": ".py",
   "mimetype": "text/x-python",
   "name": "python",
   "nbconvert_exporter": "python",
   "pygments_lexer": "ipython3",
   "version": "3.9.10"
  },
  "orig_nbformat": 4
 },
 "nbformat": 4,
 "nbformat_minor": 2
}
