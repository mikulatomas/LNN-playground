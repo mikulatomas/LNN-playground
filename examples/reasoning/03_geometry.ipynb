{
 "cells": [
  {
   "cell_type": "code",
   "execution_count": 68,
   "metadata": {},
   "outputs": [],
   "source": [
    "from itertools import chain\n",
    "from lnn import Predicate, Variable, Exists, Implies, And, ForAll, Model, Fact, World"
   ]
  },
  {
   "cell_type": "markdown",
   "metadata": {},
   "source": [
    "## Domain specification"
   ]
  },
  {
   "cell_type": "code",
   "execution_count": 69,
   "metadata": {},
   "outputs": [],
   "source": [
    "# entities and properties names\n",
    "entities = [\"rectangle\", \"square\", \"rhombus\", \"parallelogram\"]\n",
    "properties = [\"foursided\", \"equal_sides\", \"right_angles\"]\n",
    "\n",
    "# implications\n",
    "entity_relationships = [\n",
    "    (\"square\", \"rectangle\"),\n",
    "    (\"square\", \"rhombus\"),\n",
    "    (\"rectangle\", \"parallelogram\"),\n",
    "    (\"rhombus\", \"parallelogram\"),\n",
    "]\n",
    "\n",
    "# implications\n",
    "entity_properties = [\n",
    "    (\"parallelogram\", \"foursided\"),\n",
    "    (\"rectangle\", \"right_angles\"),\n",
    "    (\"rhombus\", \"equal_sides\"),\n",
    "]\n",
    "\n",
    "# information that object \"s1\" is a square etc.\n",
    "facts = {\n",
    "    \"square\": [\"s1\", \"s2\"],\n",
    "    \"rectangle\": [\"r1\"],\n",
    "    \"rhombus\": [\"rh1\"],\n",
    "    \"parallelogram\": [\"p1\"],\n",
    "}"
   ]
  },
  {
   "cell_type": "markdown",
   "metadata": {},
   "source": [
    "## Model definition and domain parsing"
   ]
  },
  {
   "cell_type": "code",
   "execution_count": 72,
   "metadata": {},
   "outputs": [
    {
     "name": "stdout",
     "output_type": "stream",
     "text": [
      "\n",
      "***************************************************************************\n",
      "                                LNN Model\n",
      "\n",
      "OPEN   Predicate: right_angles(x0) \n",
      "\n",
      "OPEN   Predicate: equal_sides(x0) \n",
      "\n",
      "OPEN   Predicate: foursided(x0) \n",
      "\n",
      "OPEN   Predicate: parallelogram(x0) \n",
      "\n",
      "OPEN   Predicate: rhombus(x0) \n",
      "\n",
      "OPEN   Predicate: square(x0) \n",
      "\n",
      "OPEN   Predicate: rectangle(x0) \n",
      "\n",
      "***************************************************************************\n"
     ]
    }
   ],
   "source": [
    "model = Model()\n",
    "\n",
    "x = Variable(\"x\")\n",
    "\n",
    "# parsing predicates\n",
    "for predicate in chain(entities, properties):\n",
    "    model[predicate] = Predicate(name=predicate)\n",
    "\n",
    "model.print()"
   ]
  },
  {
   "cell_type": "code",
   "execution_count": 73,
   "metadata": {},
   "outputs": [
    {
     "name": "stdout",
     "output_type": "stream",
     "text": [
      "\n",
      "***************************************************************************\n",
      "                                LNN Model\n",
      "\n",
      "AXIOM  ForAll: all_rhombus_equal_sides (x)                  TRUE (1.0, 1.0)\n",
      "\n",
      "OPEN   Implies: rhombus_equal_sides(x) \n",
      "\n",
      "AXIOM  ForAll: all_rectangle_right_angles (x)               TRUE (1.0, 1.0)\n",
      "\n",
      "OPEN   Implies: rectangle_right_angles(x) \n",
      "\n",
      "AXIOM  ForAll: all_parallelogram_foursided (x)              TRUE (1.0, 1.0)\n",
      "\n",
      "OPEN   Implies: parallelogram_foursided(x) \n",
      "\n",
      "AXIOM  ForAll: all_rhombus_parallelogram (x)                TRUE (1.0, 1.0)\n",
      "\n",
      "OPEN   Implies: rhombus_parallelogram(x) \n",
      "\n",
      "AXIOM  ForAll: all_rectangle_parallelogram (x)              TRUE (1.0, 1.0)\n",
      "\n",
      "OPEN   Implies: rectangle_parallelogram(x) \n",
      "\n",
      "AXIOM  ForAll: all_square_rhombus (x)                       TRUE (1.0, 1.0)\n",
      "\n",
      "OPEN   Implies: square_rhombus(x) \n",
      "\n",
      "AXIOM  ForAll: all_square_rectangle (x)                     TRUE (1.0, 1.0)\n",
      "\n",
      "OPEN   Implies: square_rectangle(x) \n",
      "\n",
      "OPEN   Predicate: right_angles(x0) \n",
      "\n",
      "OPEN   Predicate: equal_sides(x0) \n",
      "\n",
      "OPEN   Predicate: foursided(x0) \n",
      "\n",
      "OPEN   Predicate: parallelogram(x0) \n",
      "\n",
      "OPEN   Predicate: rhombus(x0) \n",
      "\n",
      "OPEN   Predicate: square(x0) \n",
      "\n",
      "OPEN   Predicate: rectangle(x0) \n",
      "\n",
      "***************************************************************************\n"
     ]
    }
   ],
   "source": [
    "# parsing axioms in Implication and ForAll shape\n",
    "axioms = [\n",
    "    ForAll(\n",
    "        x,\n",
    "        Implies(model[p1](x), model[p2](x), name=f\"{p1}_{p2}\"),\n",
    "        name=f\"all_{p1}_{p2}\",\n",
    "        world=World.AXIOM,\n",
    "    )\n",
    "    for p1, p2 in chain(entity_relationships, entity_properties)\n",
    "]\n",
    "\n",
    "model.add_formulae(*axioms)\n",
    "\n",
    "model.print()"
   ]
  },
  {
   "cell_type": "code",
   "execution_count": 65,
   "metadata": {},
   "outputs": [],
   "source": [
    "# parsing facts\n",
    "model.add_facts(\n",
    "    {entity: {name: Fact.TRUE for name in names} for entity, names in facts.items()}\n",
    ")"
   ]
  },
  {
   "cell_type": "markdown",
   "metadata": {},
   "source": [
    "## Question definition"
   ]
  },
  {
   "cell_type": "code",
   "execution_count": 74,
   "metadata": {},
   "outputs": [
    {
     "name": "stdout",
     "output_type": "stream",
     "text": [
      "\n",
      "***************************************************************************\n",
      "                                LNN Model\n",
      "\n",
      "OPEN   Exists: right_angles_and_equal_length_sides (x)       UNKNOWN (0.0, 1.0)\n",
      "\n",
      "OPEN   And: And_11(x) \n",
      "\n",
      "OPEN   Exists: right_angles_objects (x)                  UNKNOWN (0.0, 1.0)\n",
      "\n",
      "OPEN   Exists: equal_sides_objects (x)                   UNKNOWN (0.0, 1.0)\n",
      "\n",
      "OPEN   Exists: foursided_objects (x)                     UNKNOWN (0.0, 1.0)\n",
      "\n",
      "AXIOM  ForAll: all_rhombus_equal_sides (x)                  TRUE (1.0, 1.0)\n",
      "\n",
      "OPEN   Implies: rhombus_equal_sides(x) \n",
      "\n",
      "AXIOM  ForAll: all_rectangle_right_angles (x)               TRUE (1.0, 1.0)\n",
      "\n",
      "OPEN   Implies: rectangle_right_angles(x) \n",
      "\n",
      "AXIOM  ForAll: all_parallelogram_foursided (x)              TRUE (1.0, 1.0)\n",
      "\n",
      "OPEN   Implies: parallelogram_foursided(x) \n",
      "\n",
      "AXIOM  ForAll: all_rhombus_parallelogram (x)                TRUE (1.0, 1.0)\n",
      "\n",
      "OPEN   Implies: rhombus_parallelogram(x) \n",
      "\n",
      "AXIOM  ForAll: all_rectangle_parallelogram (x)              TRUE (1.0, 1.0)\n",
      "\n",
      "OPEN   Implies: rectangle_parallelogram(x) \n",
      "\n",
      "AXIOM  ForAll: all_square_rhombus (x)                       TRUE (1.0, 1.0)\n",
      "\n",
      "OPEN   Implies: square_rhombus(x) \n",
      "\n",
      "AXIOM  ForAll: all_square_rectangle (x)                     TRUE (1.0, 1.0)\n",
      "\n",
      "OPEN   Implies: square_rectangle(x) \n",
      "\n",
      "OPEN   Predicate: right_angles(x0) \n",
      "\n",
      "OPEN   Predicate: equal_sides(x0) \n",
      "\n",
      "OPEN   Predicate: foursided(x0) \n",
      "\n",
      "OPEN   Predicate: parallelogram(x0) \n",
      "\n",
      "OPEN   Predicate: rhombus(x0) \n",
      "\n",
      "OPEN   Predicate: square(x0) \n",
      "\n",
      "OPEN   Predicate: rectangle(x0) \n",
      "\n",
      "***************************************************************************\n"
     ]
    }
   ],
   "source": [
    "queries = [\n",
    "    Exists(x, model[\"foursided\"](x), name=\"foursided_objects\"),\n",
    "    Exists(x, model[\"equal_sides\"](x), name=\"equal_sides_objects\"),\n",
    "    Exists(x, model[\"right_angles\"](x), name=\"right_angles_objects\"),\n",
    "    Exists(\n",
    "        x,\n",
    "        And(model[\"right_angles\"](x), model[\"equal_sides\"](x)),\n",
    "        name=\"right_angles_and_equal_length_sides\",\n",
    "    ),\n",
    "]\n",
    "\n",
    "model.add_formulae(*queries)\n",
    "\n",
    "model.print()"
   ]
  },
  {
   "cell_type": "markdown",
   "metadata": {},
   "source": [
    "## Infer from model and answer questions"
   ]
  },
  {
   "cell_type": "code",
   "execution_count": 67,
   "metadata": {},
   "outputs": [
    {
     "name": "stdout",
     "output_type": "stream",
     "text": [
      "Query foursided_objects result:\n",
      "{'p1', 'r1', 'rh1', 's1', 's2'}\n",
      "Query equal_sides_objects result:\n",
      "{'s2', 'rh1', 's1'}\n",
      "Query right_angles_objects result:\n",
      "{'s2', 'r1', 's1'}\n",
      "Query right_angles_and_equal_length_sides result:\n",
      "{'s2', 's1'}\n"
     ]
    }
   ],
   "source": [
    "steps, facts_inferred = model.infer()\n",
    "\n",
    "for query in queries:\n",
    "    print(f\"Query {query.name} result:\")\n",
    "    print(model[query.name].true_groundings)"
   ]
  }
 ],
 "metadata": {
  "interpreter": {
   "hash": "b08e4317ac3dadd66ff2b630a3808f8622704b72a62f43c1750e624fca33bbd2"
  },
  "kernelspec": {
   "display_name": "Python 3.9.10 ('lnn')",
   "language": "python",
   "name": "python3"
  },
  "language_info": {
   "codemirror_mode": {
    "name": "ipython",
    "version": 3
   },
   "file_extension": ".py",
   "mimetype": "text/x-python",
   "name": "python",
   "nbconvert_exporter": "python",
   "pygments_lexer": "ipython3",
   "version": "3.9.10"
  },
  "orig_nbformat": 4
 },
 "nbformat": 4,
 "nbformat_minor": 2
}
