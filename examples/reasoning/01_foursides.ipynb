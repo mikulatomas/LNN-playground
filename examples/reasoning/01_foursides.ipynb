{
 "cells": [
  {
   "cell_type": "code",
   "execution_count": 5,
   "metadata": {},
   "outputs": [
    {
     "data": {
      "text/plain": [
       "{'c', 'k'}"
      ]
     },
     "execution_count": 5,
     "metadata": {},
     "output_type": "execute_result"
    }
   ],
   "source": [
    "from lnn import Predicate, Variable, Exists, Implies, ForAll, Model, Fact, World\n",
    "\n",
    "model = Model()\n",
    "\n",
    "# Variable\n",
    "x = Variable(\"x\")\n",
    "\n",
    "# Predicate declarations\n",
    "square = Predicate(name=\"square\")\n",
    "rectangle = Predicate(name=\"rectangle\")\n",
    "foursides = Predicate(name=\"foursides\")\n",
    "\n",
    "# Axioms declarations\n",
    "square_rect = ForAll(\n",
    "    x,\n",
    "    Implies(square(x), rectangle(x), name=\"square-rect\"),\n",
    "    name=\"all-square-rect\",\n",
    "    world=World.AXIOM,\n",
    ")\n",
    "rect_foursides = ForAll(\n",
    "    x,\n",
    "    Implies(rectangle(x), foursides(x), name=\"rect-foursides\"),\n",
    "    name=\"all-rect-foursides\",\n",
    "    world=World.AXIOM,\n",
    ")\n",
    "\n",
    "# Query\n",
    "query = Exists(x, foursides(x), name=\"foursided_objects\")\n",
    "\n",
    "# Add predicates and rules to the model\n",
    "model.add_formulae(square, rectangle, square_rect, rect_foursides, query)\n",
    "\n",
    "# Add facts to the model\n",
    "model.add_facts({\"square\": {\"c\": Fact.TRUE, \"k\": Fact.TRUE}})\n",
    "\n",
    "# Perform inference\n",
    "steps, facts_inferred = model.infer()\n",
    "\n",
    "# Inspect the query node\n",
    "model[\"foursided_objects\"].true_groundings\n"
   ]
  },
  {
   "cell_type": "code",
   "execution_count": 6,
   "metadata": {},
   "outputs": [
    {
     "name": "stdout",
     "output_type": "stream",
     "text": [
      "\n",
      "***************************************************************************\n",
      "                                LNN Model\n",
      "\n",
      "OPEN   Exists: foursided_objects (x)                        TRUE (1.0, 1.0)\n",
      "\n",
      "AXIOM  ForAll: all-rect-foursides (x)                       TRUE (1.0, 1.0)\n",
      "\n",
      "OPEN   Implies: rect-foursides(x) \n",
      "'c'                                                         TRUE (1.0, 1.0)\n",
      "'k'                                                         TRUE (1.0, 1.0)\n",
      "\n",
      "OPEN   Predicate: foursides(x0) \n",
      "'c'                                                         TRUE (1.0, 1.0)\n",
      "'k'                                                         TRUE (1.0, 1.0)\n",
      "\n",
      "AXIOM  ForAll: all-square-rect (x)                          TRUE (1.0, 1.0)\n",
      "\n",
      "OPEN   Implies: square-rect(x) \n",
      "'c'                                                         TRUE (1.0, 1.0)\n",
      "'k'                                                         TRUE (1.0, 1.0)\n",
      "\n",
      "OPEN   Predicate: rectangle(x0) \n",
      "'c'                                                         TRUE (1.0, 1.0)\n",
      "'k'                                                         TRUE (1.0, 1.0)\n",
      "\n",
      "OPEN   Predicate: square(x0) \n",
      "'c'                                                         TRUE (1.0, 1.0)\n",
      "'k'                                                         TRUE (1.0, 1.0)\n",
      "\n",
      "***************************************************************************\n"
     ]
    }
   ],
   "source": [
    "model.print()"
   ]
  },
  {
   "cell_type": "code",
   "execution_count": 7,
   "metadata": {},
   "outputs": [
    {
     "data": {
      "image/png": "[encoded data removed]",
      "text/plain": [
       "<Figure size 432x288 with 1 Axes>"
      ]
     },
     "metadata": {},
     "output_type": "display_data"
    }
   ],
   "source": [
    "from lnn.utils import plot_graph\n",
    "\n",
    "plot_graph(model)"
   ]
  },
  {
   "cell_type": "code",
   "execution_count": null,
   "metadata": {},
   "outputs": [],
   "source": []
  }
 ],
 "metadata": {
  "interpreter": {
   "hash": "b08e4317ac3dadd66ff2b630a3808f8622704b72a62f43c1750e624fca33bbd2"
  },
  "kernelspec": {
   "display_name": "Python 3.9.10 ('lnn')",
   "language": "python",
   "name": "python3"
  },
  "language_info": {
   "codemirror_mode": {
    "name": "ipython",
    "version": 3
   },
   "file_extension": ".py",
   "mimetype": "text/x-python",
   "name": "python",
   "nbconvert_exporter": "python",
   "pygments_lexer": "ipython3",
   "version": "3.9.10"
  },
  "orig_nbformat": 4
 },
 "nbformat": 4,
 "nbformat_minor": 2
}
